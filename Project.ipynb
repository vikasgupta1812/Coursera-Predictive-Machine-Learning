{
 "cells": [
  {
   "cell_type": "markdown",
   "metadata": {},
   "source": [
    "---\n",
    "title: \"Project\"\n",
    "output: \n",
    "  html_document:\n",
    "    pandoc_args: \n",
    "      - +RTS\n",
    "      - -K64m\n",
    "      - -RTS\n",
    "---\n",
    "##Abstract\n",
    "Using devices such as Jawbone Up, Nike FuelBand, and Fitbit it is now possible to collect a large amount of data about personal activity relatively inexpensively. These type of devices are part of the quantified self movement – a group of enthusiasts who take measurements about themselves regularly to improve their health, to find patterns in their behavior, or because they are tech geeks. One thing that people regularly do is quantify how much of a particular activity they do, but they rarely quantify how well they do it. In this project, your goal will be to use data from accelerometers on the belt, forearm, arm, and dumbell of 6 participants. They were asked to perform barbell lifts correctly and incorrectly in 5 different ways. More information is available from the website here: http://groupware.les.inf.puc-rio.br/har (see the section on the Weight Lifting Exercise Dataset). \n",
    "\n",
    "\n",
    "\n",
    "Import Libraries"
   ]
  },
  {
   "cell_type": "code",
   "execution_count": null,
   "metadata": {},
   "outputs": [],
   "source": [
    "%%R\n",
    "library(caret)"
   ]
  },
  {
   "cell_type": "markdown",
   "metadata": {},
   "source": [
    "Set seed for reproducibility"
   ]
  },
  {
   "cell_type": "code",
   "execution_count": null,
   "metadata": {},
   "outputs": [],
   "source": [
    "%%R\n",
    "set.seed(123)"
   ]
  },
  {
   "cell_type": "markdown",
   "metadata": {},
   "source": [
    "#Download data \n",
    "\n",
    "Check if data folder exists"
   ]
  },
  {
   "cell_type": "code",
   "execution_count": null,
   "metadata": {},
   "outputs": [],
   "source": [
    "%%R\n",
    "if(!file.exists(\"Data\")) {\n",
    "  (dir.create(\"Data\"))\n",
    "}"
   ]
  },
  {
   "cell_type": "markdown",
   "metadata": {},
   "source": [
    "Downlaod files."
   ]
  },
  {
   "cell_type": "code",
   "execution_count": null,
   "metadata": {},
   "outputs": [],
   "source": [
    "%%R\n",
    "url1 <- \"https://d396qusza40orc.cloudfront.net/predmachlearn/pml-training.csv\"\n",
    "url2  <- \"https://d396qusza40orc.cloudfront.net/predmachlearn/pml-testing.csv\"\n",
    "file1  <- \"./Data/training.csv\"\n",
    "file2  <- \"./Data/testing.csv\"\n",
    "\n",
    "\n",
    "if(!file.exists(file1)) {\n",
    "  download.file(url = url1, destfile=file1,method=\"curl\")\n",
    "}\n",
    "\n",
    "if(!file.exists(file2)) {\n",
    "  download.file(url = url2, destfile=file2,method=\"curl\")\n",
    "}"
   ]
  },
  {
   "cell_type": "markdown",
   "metadata": {},
   "source": [
    "Read files"
   ]
  },
  {
   "cell_type": "code",
   "execution_count": null,
   "metadata": {},
   "outputs": [],
   "source": [
    "%%R\n",
    "training  <- read.csv(file1, na.strings=c(\"NA\",\"#DIV/0!\"))\n",
    "testing  <- read.csv(file2, na.strings=c(\"NA\",\"#DIV/0!\"))"
   ]
  },
  {
   "cell_type": "markdown",
   "metadata": {},
   "source": [
    "Traininig dataset has 160 columns and lots of missing values.. Clean the dataset by removing columns having NA values"
   ]
  },
  {
   "cell_type": "code",
   "execution_count": null,
   "metadata": {},
   "outputs": [],
   "source": [
    "%%R\n",
    "training<-training[,colSums(is.na(training)) == 0]"
   ]
  },
  {
   "cell_type": "markdown",
   "metadata": {},
   "source": [
    "Divide the training dataset into train and cross validation datasets for fitting models."
   ]
  },
  {
   "cell_type": "code",
   "execution_count": null,
   "metadata": {},
   "outputs": [],
   "source": [
    "%%R\n",
    "inTrain  <- createDataPartition(training$classe, p = 0.7, list = F)\n",
    "train  <- training[inTrain, ]\n",
    "cv  <- training[-inTrain, ]"
   ]
  },
  {
   "cell_type": "markdown",
   "metadata": {},
   "source": [
    "Model Building \n",
    "Build the random forest mode. Use prallel processing to spped up the process."
   ]
  },
  {
   "cell_type": "code",
   "execution_count": null,
   "metadata": {},
   "outputs": [],
   "source": [
    "%%R\n",
    "if(!file.exists('./modFit.RData')) {\n",
    "  library(doMC)\n",
    "  registerDoMC(cores = 16)\n",
    "  modFit  <- train(classe ~., data = training, method = \"rf\")\n",
    "  save(modFit, file='./modFit.RData')  \n",
    "}"
   ]
  },
  {
   "cell_type": "markdown",
   "metadata": {},
   "source": [
    "#Check the results"
   ]
  },
  {
   "cell_type": "code",
   "execution_count": null,
   "metadata": {},
   "outputs": [],
   "source": [
    "%%R\n",
    "load(file = './modFit.RData')\n",
    "modFit$results"
   ]
  },
  {
   "cell_type": "markdown",
   "metadata": {},
   "source": [
    "The model has reached the accuracy of `99.97836%` \n",
    "\n",
    "\n",
    "Iteration#2: Use cross validation using cross validation dataset to improve accuracy."
   ]
  },
  {
   "cell_type": "code",
   "execution_count": null,
   "metadata": {},
   "outputs": [],
   "source": [
    "%%R\n",
    "trainControl  <- trainControl(method = \"cv\", number = 5)\n",
    "if(!file.exists('./modFit.RData')) {\n",
    "  modFitcv  <- train(classe ~ ., data = training, method=\"rf\", trControl = trainControl)\n",
    "  save(modFitcv, file = \"./modFitcv.Rdata\")\n",
    "}"
   ]
  },
  {
   "cell_type": "markdown",
   "metadata": {},
   "source": [
    "#Check the results"
   ]
  },
  {
   "cell_type": "code",
   "execution_count": null,
   "metadata": {},
   "outputs": [],
   "source": [
    "%%R\n",
    "load(file = \"./modFitcv.Rdata\")\n",
    "modFitcv$results"
   ]
  },
  {
   "cell_type": "markdown",
   "metadata": {},
   "source": [
    "The accuracy of the model is now increased to `99.99491%`\n",
    "\n",
    "\n",
    "Using this model, predict the results from testing set. \n",
    "\n",
    "\n",
    "\n",
    "# Reference\n",
    "* The data for this project come from this source: [http://groupware.les.inf.puc-rio.br/har](http://groupware.les.inf.puc-rio.br/har)"
   ]
  }
 ],
 "metadata": {},
 "nbformat": 4,
 "nbformat_minor": 2
}
